{
 "cells": [
  {
   "cell_type": "code",
   "execution_count": 1,
   "id": "0dee4510-0835-4132-ba89-5a7704f2707e",
   "metadata": {},
   "outputs": [],
   "source": [
    "import findspark\n",
    "import pyspark.sql.functions as F\n",
    "findspark.init()\n",
    "import pyspark\n",
    "from pyspark.sql import SparkSession\n",
    "from pyspark.sql.window import Window\n",
    "\n",
    "spark = SparkSession.builder.appName(\"MySparkApp\").getOrCreate()\n",
    "\n",
    "df1 = spark.createDataFrame([(\"P\",\"X\",1),(\"P\",\"Y\",2),(\"P\",\"X\",3),(\"Q\",\"Y\",4),(\"Q\",\"Z\",5)],[\"A\",\"B\",\"C\"])\n"
   ]
  },
  {
   "cell_type": "code",
   "execution_count": 2,
   "id": "43e2ae35-4b37-40e8-b11b-b56d79a0112f",
   "metadata": {},
   "outputs": [
    {
     "name": "stdout",
     "output_type": "stream",
     "text": [
      "+---+---+---+\n",
      "|  A|  B|  C|\n",
      "+---+---+---+\n",
      "|  P|  X|  1|\n",
      "|  P|  Y|  2|\n",
      "|  P|  X|  3|\n",
      "|  Q|  Y|  4|\n",
      "|  Q|  Z|  5|\n",
      "+---+---+---+\n",
      "\n"
     ]
    }
   ],
   "source": [
    "df1.show()"
   ]
  },
  {
   "cell_type": "code",
   "execution_count": 3,
   "id": "f66c285d-6cb0-44c1-86cf-e1e18dff0657",
   "metadata": {},
   "outputs": [],
   "source": [
    "df1.createOrReplaceTempView(\"df1\")"
   ]
  },
  {
   "cell_type": "code",
   "execution_count": 4,
   "id": "5e15d564-2844-4526-8004-34e7b8c0337d",
   "metadata": {},
   "outputs": [
    {
     "name": "stdout",
     "output_type": "stream",
     "text": [
      "+---+---+---+\n",
      "|  A|  B|  C|\n",
      "+---+---+---+\n",
      "|  P|  X|  1|\n",
      "|  P|  Y|  2|\n",
      "|  P|  X|  3|\n",
      "|  Q|  Y|  4|\n",
      "|  Q|  Z|  5|\n",
      "+---+---+---+\n",
      "\n"
     ]
    }
   ],
   "source": [
    "spark.sql(\"select * from df1\").show()"
   ]
  },
  {
   "cell_type": "code",
   "execution_count": 6,
   "id": "8c15dc12-da01-46d7-b9e8-85e7b6753f34",
   "metadata": {},
   "outputs": [
    {
     "name": "stdout",
     "output_type": "stream",
     "text": [
      "+---+----+---+----+\n",
      "|  A|   X|  Y|   Z|\n",
      "+---+----+---+----+\n",
      "|  Q|NULL|  4|   5|\n",
      "|  P|   4|  2|NULL|\n",
      "+---+----+---+----+\n",
      "\n"
     ]
    }
   ],
   "source": [
    "spark.sql(\"select * from df1 PIVOT(SUM(C) FOR B IN ('X','Y','Z'))\").show()"
   ]
  },
  {
   "cell_type": "code",
   "execution_count": null,
   "id": "9c3bcf70-3357-4a77-a99d-bca394802ffc",
   "metadata": {},
   "outputs": [],
   "source": []
  }
 ],
 "metadata": {
  "kernelspec": {
   "display_name": "Python 3 (ipykernel)",
   "language": "python",
   "name": "python3"
  },
  "language_info": {
   "codemirror_mode": {
    "name": "ipython",
    "version": 3
   },
   "file_extension": ".py",
   "mimetype": "text/x-python",
   "name": "python",
   "nbconvert_exporter": "python",
   "pygments_lexer": "ipython3",
   "version": "3.11.5"
  }
 },
 "nbformat": 4,
 "nbformat_minor": 5
}
